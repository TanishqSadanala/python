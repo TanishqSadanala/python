{
 "cells": [
  {
   "cell_type": "code",
   "execution_count": null,
   "metadata": {},
   "outputs": [],
   "source": [
    "%conda update\n",
    "%conda install libcairo2-dev ffmpeg \\\n",
    "    texlive texlive-latex-extra texlive-fonts-extra \\\n",
    "    texlive-latex-recommended texlive-science \\\n",
    "    tipa libpango1.0-dev\n",
    "%pip install manim\n",
    "%pip install IPython --upgrade"
   ]
  },
  {
   "cell_type": "code",
   "execution_count": 2,
   "metadata": {},
   "outputs": [
    {
     "data": {
      "text/html": [
       "<pre style=\"white-space:pre;overflow-x:auto;line-height:normal;font-family:Menlo,'DejaVu Sans Mono',consolas,'Courier New',monospace\">Manim Community <span style=\"color: #008000; text-decoration-color: #008000\">v0.17.3</span>\n",
       "\n",
       "</pre>\n"
      ],
      "text/plain": [
       "Manim Community \u001b[32mv0.\u001b[0m\u001b[32m17.3\u001b[0m\n",
       "\n"
      ]
     },
     "metadata": {},
     "output_type": "display_data"
    }
   ],
   "source": [
    "from manim import *"
   ]
  },
  {
   "cell_type": "code",
   "execution_count": 12,
   "metadata": {},
   "outputs": [
    {
     "name": "stderr",
     "output_type": "stream",
     "text": [
      "                                                                                          \r"
     ]
    },
    {
     "data": {
      "text/html": [
       "<video src=\"media\\jupyter\\PageRank_animations@2023-11-03@00-39-34.mp4\" controls autoplay loop style=\"max-width: 60%;\"  >\n",
       "      Your browser does not support the <code>video</code> element.\n",
       "    </video>"
      ],
      "text/plain": [
       "<IPython.core.display.Video object>"
      ]
     },
     "metadata": {},
     "output_type": "display_data"
    }
   ],
   "source": [
    "%%manim -qm -v WARNING PageRank_animations\n",
    "\n",
    "class PageRank_animations(Scene):\n",
    "   def construct(self):\n",
    "    hyper_link = Tex(r\"Hyper Link Graph {W}\", color= GREEN, font_size= 60, substrings_to_isolate=\"W\").shift(UP*3)\n",
    "    hyper_link.set_color_by_tex(\"W\", BLUE)\n",
    "    self.play(Write(hyper_link))\n",
    "    www = Tex(\"Miniature World Wide Web\", color = WHITE, font_size= 40).shift(UP*2)\n",
    "    self.play(Write(www))\n",
    "    www[0][9:].set_color(GOLD_A)\n",
    "    P1 = MathTex(r\"P_{1}^{}\").shift(LEFT*4)\n",
    "    P2 = MathTex(r\"P_{2}^{}\").shift(DOWN*3, LEFT*4)\n",
    "    P3 = MathTex(r\"P_{3}^{}\").shift(LEFT*2, DOWN* 1.5)\n",
    "    P4 = MathTex(r\"P_{4}^{}\").shift(UP*1.5, DOWN*3, RIGHT* 1)\n",
    "    P5 = MathTex(r\"P_{5}^{}\").shift(RIGHT*3)\n",
    "    P6 = MathTex(r\"P_{6}^{}\").shift(RIGHT*3, DOWN*3) \n",
    "    group_ps = VGroup(P1,P2, P3, P4, P5, P6 )\n",
    "    \n",
    "    Circle1 = Circle(radius=0.3, color=BLUE).surround(P1)\n",
    "    Circle2 = Circle(radius=0.3, color=GREEN).surround(P2)\n",
    "    Circle3 = Circle(radius=0.3, color=YELLOW).surround(P3)\n",
    "    Circle4 = Circle(radius=0.3, color=RED).surround(P4)\n",
    "    Circle5 = Circle(radius=0.3, color=ORANGE).surround(P5)\n",
    "    Circle6 = Circle(radius=0.3, color=GOLD).surround(P6)\n",
    "    group_circles = VGroup(Circle1, Circle2, Circle3, Circle4, Circle5, Circle6)\n",
    "    \n",
    "\n",
    "    arcs_1 =  ArcBetweenPoints(Circle1.get_right(), Circle3.get_top(),  radius = -3).add_tip(tip_length= 0.18)\n",
    "    arcs_2 =  ArcBetweenPoints(Circle3.get_left(), Circle1.get_bottom(),radius = -3).add_tip(tip_length= 0.18)\n",
    "    arcs_3 =  ArcBetweenPoints(Circle1.get_bottom(), Circle2.get_top(), radius = 100).add_tip(tip_length= 0.18)\n",
    "    arcs_4 =  ArcBetweenPoints(Circle3.get_bottom(), Circle2.get_right(), radius = 100).add_tip(tip_length= 0.18)\n",
    "    arcs_5 =  Line(Circle3.get_right(), Circle4.get_left()).add_tip(tip_length= 0.18)\n",
    "    arcs_6 =  ArcBetweenPoints(Circle5.get_left(), Circle4.get_top(),  radius = 3).add_tip(tip_length= 0.18)\n",
    "    arcs_7 =  ArcBetweenPoints(Circle5.get_right(), Circle6.get_right(),  radius = -3).add_tip(tip_length= 0.18)\n",
    "    arcs_8 =  ArcBetweenPoints(Circle6.get_top(), Circle5.get_bottom(),  radius = -3).add_tip(tip_length= 0.18)\n",
    "    arcs_9 =  ArcBetweenPoints(Circle4.get_right(), Circle6.get_top(),  radius = -3).add_tip(tip_length= 0.18)\n",
    "    arcs_10 =  ArcBetweenPoints(Circle6.get_left(), Circle4.get_bottom(),  radius = -3).add_tip(tip_length= 0.18)\n",
    "    group_arcs = VGroup(arcs_1, arcs_2, arcs_3, arcs_4, arcs_5, arcs_6, arcs_7, arcs_8, arcs_9, arcs_10)\n",
    "\n",
    "    self.play(Write(group_ps))\n",
    "    self.wait(1)\n",
    "    self.play(Create(group_circles))\n",
    "    self.wait(1)\n",
    "    self.play(Write(group_arcs))\n",
    "    self.wait(2)\n",
    "    return group_ps, group_circles, group_arcs"
   ]
  },
  {
   "cell_type": "code",
   "execution_count": null,
   "metadata": {},
   "outputs": [],
   "source": [
    "%%manim -qm -v WARNING AdjacencyMatrix\n",
    "\n",
    "class AdjacencyMatrix(Scene):\n",
    "    def construct(self):\n",
    "      hyper_link_Matrix = Tex(r\"Hyper Link Matrix {A}\", color= GREEN, font_size= 60, substrings_to_isolate=\"A\").shift(UP*3)\n",
    "      hyper_link_Matrix.set_color_by_tex(\"A\", BLUE)\n",
    "      self.play(Write(hyper_link_Matrix))\n",
    "      data = [[0, 1, 1, 0, 0, 0],\n",
    "        [0, 0, 0, 0, 0, 0],\n",
    "        [1, 1, 0, 1, 0, 0],\n",
    "        [0, 0, 0, 0, 0, 1],\n",
    "        [0, 0, 0, 1, 0, 1],\n",
    "        [0, 0, 0, 1, 1, 0]]\n",
    "      f1 = Tex(\"P1\", color= RED_A)\n",
    "      f2 = Tex(\"P2\", color= RED_A)\n",
    "      f3 = Tex(\"P3\", color= RED_A)\n",
    "      f4 = Tex(\"P4\", color= RED_A)\n",
    "      f5 = Tex(\"P5\", color= RED_A)\n",
    "      f6 = Tex(\"P6\", color= RED_A)\n",
    "      vgroup = VGroup(f1, f2, f3, f4, f5, f6)\n",
    "      v2group = vgroup.copy()\n",
    "      Horizontal = vgroup.arrange(4 * RIGHT).shift(UP* 2, LEFT* 3).scale(0.5)\n",
    "      matrix = np.array(data)\n",
    "      Vertical = v2group.arrange(3.5 * DOWN).shift(UP* 2, LEFT* 5.59, DOWN* 2).scale(0.5)\n",
    "      vals = matrix\n",
    "      table = IntegerTable(vals,include_outer_lines=True).scale(0.5).shift(LEFT*3)\n",
    "      LeadsTo = MathTex(r\"\\rightsquigarrow\", font_size=90, color = GOLD_D).shift(RIGHT* 0.5)\n",
    "      m2 = Matrix(data, element_alignment_corner=UL,left_bracket=\"(\",right_bracket=\")\").shift(RIGHT* 4.6).scale(0.5)\n",
    "      adgacency = MathTex(r\"A = \", font_size=40).shift(RIGHT* 2)\n",
    "      bra = m2.get_brackets()\n",
    "      colors = [BLUE, GREEN]\n",
    "      for k in range(len(colors)):\n",
    "          bra[k].set_color(colors[k])\n",
    "      matrixgroup = Group(adgacency, m2)\n",
    "      self.play(table.create())\n",
    "      self.play(Write(Horizontal))\n",
    "      self.play(Write(Vertical))\n",
    "      self.wait(2)\n",
    "      self.play(Write(LeadsTo))\n",
    "      self.wait(2)\n",
    "      self.add(matrixgroup)\n",
    "      self.wait(5)"
   ]
  },
  {
   "cell_type": "code",
   "execution_count": null,
   "metadata": {},
   "outputs": [],
   "source": []
  },
  {
   "cell_type": "code",
   "execution_count": 222,
   "metadata": {},
   "outputs": [
    {
     "name": "stderr",
     "output_type": "stream",
     "text": [
      "                                                                                                                \r"
     ]
    },
    {
     "data": {
      "text/html": [
       "<video src=\"media\\jupyter\\Row_Hyper_Mtrix@2023-11-04@00-58-16.mp4\" controls autoplay loop style=\"max-width: 60%;\"  >\n",
       "      Your browser does not support the <code>video</code> element.\n",
       "    </video>"
      ],
      "text/plain": [
       "<IPython.core.display.Video object>"
      ]
     },
     "metadata": {},
     "output_type": "display_data"
    }
   ],
   "source": [
    "%%manim -qm -v WARNING Row_Hyper_Mtrix\n",
    "\n",
    "class Row_Hyper_Mtrix(Scene):\n",
    "    def construct(self):\n",
    "      Row_HyperLink_Matrix = Tex(r\"Row-Normalised Hyper Link Matrix {H}\", color= GREEN, font_size= 60).shift(UP*3)\n",
    "      Row_HyperLink_Matrix[0][29:].set_color(BLUE)\n",
    "      data1 = [[0, 1, 1, 0, 0, 0],\n",
    "        [0, 0, 0, 0, 0, 0],\n",
    "        [1, 1, 0, 1, 0, 0],\n",
    "        [0, 0, 0, 0, 0, 1],\n",
    "        [0, 0, 0, 1, 0, 1],\n",
    "        [0, 0, 0, 1, 1, 0]]\n",
    "      data2 = [[0, r\"\\frac{1}{2}\", r\"\\frac{1}{2}\", 0, 0, 0],\n",
    "        [0, 0, 0, 0, 0, 0],\n",
    "        [r\"\\frac{1}{3}\", r\"\\frac{1}{3}\", 0, r\"\\frac{1}{3}\", 0, 0],\n",
    "        [0, 0, 0, 0, 0, 1],\n",
    "        [0, 0, 0, r\"\\frac{1}{2}\", 0, r\"\\frac{1}{2}\"],\n",
    "        [0, 0, 0, r\"\\frac{1}{2}\", r\"\\frac{1}{2}\", 0]]\n",
    "      LeadsTo = MathTex(r\"\\rightsquigarrow\", font_size=90, color = GOLD_D).shift(DOWN* 1)\n",
    "      M1 = Matrix(data1, element_alignment_corner=UL,v_buff = 1.8,left_bracket=\"(\",right_bracket=\")\").scale(0.5).shift(LEFT*3, DOWN *1)\n",
    "      m2 = Matrix(data2, element_alignment_corner=UL,v_buff = 1.8,left_bracket=\"(\",right_bracket=\")\").shift(RIGHT* 4.6, DOWN* 0.8).scale(0.5)\n",
    "      adgacency = MathTex(r\"H = \", font_size=40).shift(RIGHT* 2, DOWN*1)\n",
    "      adgacency1 = MathTex(r\"A = \", font_size=40).shift(LEFT* 6, DOWN*1)\n",
    "      bra = m2.get_brackets()\n",
    "      colors = [BLUE, GREEN]\n",
    "      for k in range(len(colors)):\n",
    "          bra[k].set_color(colors[k])\n",
    "      matrixgroup = Group(adgacency, m2)\n",
    "      self.play(Write(M1))\n",
    "      self.play(Write(adgacency1))\n",
    "      self.play(Write(LeadsTo))\n",
    "      self.play(Write(Row_HyperLink_Matrix))\n",
    "      self.add(matrixgroup)\n",
    "      self.wait(4)\n",
    "\n",
    "\n"
   ]
  },
  {
   "cell_type": "code",
   "execution_count": null,
   "metadata": {},
   "outputs": [],
   "source": [
    "%%manim -qm -v WARNING Probabilty_Vector\n",
    "class Probabilty_Vector(Scene):\n",
    "    def construct(self):\n",
    "        p_vector = Tex(r\"Prabability Vector ${\\pi}$\", color= GREEN, font_size= 60).shift(UP*3)\n",
    "        p_vector[0][17:].set_color(BLUE).scale(1)\n",
    "        ps, circles, arrows = PageRank_animations().construct()\n",
    "        group_pagerank = VGroup(ps, circles, arrows).shift(RIGHT*2, UP*2).scale(0.7)\n",
    "        group_pagerank.generate_target()    \n",
    "        pagerank = group_ps.copy()\n",
    "        data =  [['\\\\frac{1}{6}'],\n",
    "                  ['\\\\frac{1}{6}'],\n",
    "                  ['\\\\frac{1}{6}'],\n",
    "                  ['\\\\frac{1}{6}'],\n",
    "                  ['\\\\frac{1}{6}'],\n",
    "                  ['\\\\frac{1}{6}']]\n",
    "        pvector = MathTex(r\"\\overrightarrow{\\pi _{0}} = \", font_size=60).shift(LEFT*3)\n",
    "        m2 = Matrix(data, element_alignment_corner=UL,v_buff=1.3,left_bracket=\"[\",right_bracket=\"]\").scale(0.6).shift(LEFT*1)\n",
    "        group = Group(pvector, m2)\n",
    "        group.generate_target()\n",
    "        group.target.shift(LEFT*3).scale(0.7)\n",
    "        propbability_sum = MathTex(r\"(\\frac{1}{6} + \\frac{1}{6} + \\frac{1}{6} + \\frac{1}{6} + \\frac{1}{6} + \\frac{1}{6}) = 1\").shift(RIGHT*2, DOWN*2).scale(0.8)\n",
    "        EigenvectorFormula = MathTex(r\"\\pi = \\pi{H}\", font_size=60, color = GOLD_E).shift(RIGHT*2, DOWN*2)\n",
    "        text =  Tex(r\"Sovle Iteratively to find the Probability Vector ${\\pi}$\", font_size=40).shift(RIGHT*2, DOWN*2)\n",
    "        IterativeFormula = MathTex(r\"\\pi _{}^{k+1} = \\pi _{}^{k}H\").shift(RIGHT*1.7, DOWN * 4, UP* 1).scale(0.8)\n",
    "        Iterative_Process = MathTex(r\"\\pi _{}^{(1)} = \\pi _{}^{(0)}H \\\\ \\pi _{}^{(2)} = \\pi _{}^{(1)}H \\\\ \\pi _{}^{(3)} = \\pi _{}^{(2)}H\").shift(RIGHT*1.7, DOWN*1.7, UP* 1).scale(0.8)\n",
    "        etc = MathTex(r\"\\begin{matrix}. \\\\.\\\\. \\\\\\end{matrix}\").shift(RIGHT*1.5, DOWN*2.4).scale(0.5)\n",
    "        self.play(Write(p_vector))\n",
    "        self.play(Write(pvector))        \n",
    "        self.play(Write(m2))\n",
    "        self.add(group)\n",
    "        self.wait(1)\n",
    "        self.play(MoveToTarget(group))\n",
    "        self.wait(1)\n",
    "        self.play(Create(group_pagerank))\n",
    "        self.wait(1)\n",
    "        self.play(Write(propbability_sum))\n",
    "        self.wait(1)\n",
    "        self.play(FadeOut(propbability_sum))\n",
    "        self.wait(1)\n",
    "        self.play(Write(EigenvectorFormula))\n",
    "        group_pagerank.target.shift(UP*1).scale(0.7)\n",
    "        self.play(MoveToTarget(group_pagerank))\n",
    "        self.wait(0.5)\n",
    "        self.play(FadeOut(EigenvectorFormula))\n",
    "        self.wait(0.5)\n",
    "        self.play(Write(text))\n",
    "        self.wait(0.5)\n",
    "        self.play(FadeOut(text))\n",
    "        self.wait(0.5)\n",
    "        self.play(Write(Iterative_Process))\n",
    "        self.play(Write(etc))\n",
    "        self.wait(2)\n",
    "        self.play(Write(IterativeFormula))\n",
    "        self.wait(1)\n",
    "        \n"
   ]
  },
  {
   "cell_type": "code",
   "execution_count": 224,
   "metadata": {},
   "outputs": [],
   "source": [
    "global data\n",
    "data = np.array([[0.16666667, 0.16666667, 0.16666667, 0.16666667, 0.16666667, 0.16666667],\n",
    "                    [0.05555556, 0.13888889, 0.08333333, 0.22222222, 0.08333333, 0.25],\n",
    "                    [0.02777778, 0.05555556, 0.02777778, 0.19444444, 0.125, 0.26388889],\n",
    "                    [0.00925926, 0.02314815, 0.01388889, 0.2037037, 0.13194444, 0.25694444],\n",
    "                    [0.00462963, 0.00925926, 0.00462963, 0.19907407, 0.12847222, 0.26967593],\n",
    "                    [0.00154321, 0.00385802, 0.00231481, 0.20061728, 0.13483796, 0.26331019],\n",
    "                    [0.0007716, 0.00154321, 0.0007716, 0.19984568, 0.13165509, 0.26803627],\n",
    "                    [0.0002572, 0.000643, 0.0003858, 0.20010288, 0.13401813, 0.26567323],\n",
    "                    [0.0001286, 0.0002572, 0.0001286, 0.19997428, 0.13283661, 0.26711195],\n",
    "                    [0.00004287, 0.00010717, 0.0000643, 0.20001715, 0.13355597, 0.26639259],\n",
    "                    [0.00002143, 0.00004287, 0.00002143, 0.19999571, 0.13319629, 0.26679513],\n",
    "                    [0.00000714, 0.00001786, 0.00001072, 0.20000286, 0.13339757, 0.26659386],\n",
    "                    [0.00000357, 0.00000714, 0.00000357, 0.19999929, 0.13329693, 0.26670164],\n",
    "                    [0.00000119, 0.00000298, 0.00000179, 0.20000048, 0.13335082, 0.26664775],\n",
    "                    [0.0000006, 0.00000119, 0.0000006, 0.19999988, 0.13332388, 0.26667589],\n",
    "                    [0.0000002, 0.0000005, 0.0000003, 0.20000008, 0.13333794, 0.26666182],\n",
    "                    [0.0000001, 0.0000002, 0.0000001, 0.19999998, 0.13333091, 0.26666905],\n",
    "                    [0.00000003, 0.00000008, 0.00000005, 0.20000001, 0.13333453, 0.26666543],\n",
    "                    [0.00000002, 0.00000003, 0.00000002, 0.2, 0.13333272, 0.26666728],\n",
    "                    [0.00000001, 0.00000001, 0.00000001, 0.2, 0.13333364, 0.26666636],\n",
    "                    [0.00000000, 0.00000001, 0.00000000, 0.2, 0.13333318, 0.26666682],\n",
    "                    [0.00000000, 0.00000000, 0.00000000, 0.2, 0.13333341, 0.26666659],\n",
    "                    [0.00000000, 0.00000000, 0.00000000, 0.2, 0.13333329, 0.26666671],\n",
    "                    [0.00000000, 0.00000000, 0.00000000, 0.2, 0.13333335, 0.26666665],\n",
    "                    [0.00000000, 0.00000000, 0.00000000, 0.2, 0.13333332, 0.26666668],\n",
    "                    [0.00000000, 0.00000000, 0.00000000, 0.2, 0.13333334, 0.26666666]])\n",
    "\n"
   ]
  },
  {
   "cell_type": "code",
   "execution_count": 225,
   "metadata": {},
   "outputs": [
    {
     "name": "stderr",
     "output_type": "stream",
     "text": [
      "                                                                                                                                                                                                                                                                                                                                 \r"
     ]
    },
    {
     "data": {
      "text/html": [
       "<video src=\"media\\jupyter\\IterateTable@2023-11-04@01-16-25.mp4\" controls autoplay loop style=\"max-width: 60%;\"  >\n",
       "      Your browser does not support the <code>video</code> element.\n",
       "    </video>"
      ],
      "text/plain": [
       "<IPython.core.display.Video object>"
      ]
     },
     "metadata": {},
     "output_type": "display_data"
    }
   ],
   "source": [
    "%%manim -qm -v WARNING IterateTable\n",
    "class IterateTable(Scene):\n",
    "    def construct(self):\n",
    "        Header = Tex(r\"Iterating ${\\pi H}$\", color= GREEN, font_size= 60).shift(UP*3)\n",
    "        Header[0][9:].set_color(BLUE).scale(1)\n",
    "        Ps = [f\"P_{i}\" for i in range(1, 7)]\n",
    "        P_objects = [MathTex(p, color=RED_A) for p in Ps]\n",
    "        Pis = [f\"\\pi{i}\" for i in range(1, 26)]\n",
    "        Pi_objects = [MathTex(pi, color=RED_A) for pi in Pis]\n",
    "        global vgroup, v2group\n",
    "        vgroup = VGroup(*P_objects)\n",
    "        v2group = VGroup(*Pi_objects)\n",
    "        Horizontal = vgroup.arrange(9 * RIGHT).shift(UP* 1).scale(0.5)\n",
    "        matrix = np.array(data)\n",
    "        Vertical = v2group.arrange(2 * DOWN).shift(LEFT* 4.7, DOWN* 7).scale(0.7)\n",
    "        table = DecimalTable(data,include_outer_lines=True,element_to_mobject_config={\"num_decimal_places\": 4}).scale(0.5).shift(DOWN*7)\n",
    "        tablegroup = VGroup(table, Horizontal, Vertical)\n",
    "        self.play(Write(Header))\n",
    "        self.play(Write(table))\n",
    "        self.play(tablegroup.animate.scale(1.4).shift(DOWN*6))\n",
    "        self.play(FadeOut(Header))\n",
    "        hightlight = tablegroup.add(SurroundingRectangle(table.get_rows()[0]))\n",
    "        tablegroup.add(SurroundingRectangle(table.get_rows()[25]))\n",
    "        self.play(hightlight.animate.shift(UP*24), run_time=2)\n",
    "        self.wait(2)\n",
    "        propbability_sum = MathTex(r\"\\pi = \\left<  0 \\;\\;\\;\\;\\;\\;\\;\\;\\;\\;\\; 0 \\;\\;\\;\\;\\;\\;\\;\\;\\;\\;\\; 0 \\;\\;\\;\\;\\;\\;\\;\\;\\;\\;\\; \\frac{1}{5} \\;\\;\\;\\;\\;\\;\\;\\;\\;\\;\\; \\frac{2}{15} \\;\\;\\;\\;\\;\\;\\;\\;\\;\\;\\; \\frac{4}{15}\\right>\").scale(1).shift( DOWN*0.7)\n",
    "        propbability_sum[0][:1].set_color(BLUE)\n",
    "        self.wait(2)\n",
    "        text =  Tex(r\"We Observe that this converges to a vector ${\\pi}$\", font_size=40).shift(RIGHT*-1, DOWN*0.7)\n",
    "        text[0][:35].set_color(BLUE).scale(1)\n",
    "        self.play(Write(text))\n",
    "        self.wait(1)\n",
    "        self.play(FadeOut(text))\n",
    "        self.wait(1)\n",
    "        self.play(Write(propbability_sum))\n",
    "        self.wait(4)\n",
    "        \n",
    "        \n"
   ]
  },
  {
   "cell_type": "code",
   "execution_count": 226,
   "metadata": {},
   "outputs": [
    {
     "name": "stderr",
     "output_type": "stream",
     "text": [
      "                                                                                                                                                                                \r"
     ]
    },
    {
     "data": {
      "text/html": [
       "<video src=\"media\\jupyter\\WrongSum@2023-11-04@01-40-59.mp4\" controls autoplay loop style=\"max-width: 60%;\"  >\n",
       "      Your browser does not support the <code>video</code> element.\n",
       "    </video>"
      ],
      "text/plain": [
       "<IPython.core.display.Video object>"
      ]
     },
     "metadata": {},
     "output_type": "display_data"
    }
   ],
   "source": [
    "%%manim -qm -v WARNING WrongSum\n",
    "class WrongSum(Scene):\n",
    "    def construct(self):\n",
    "        text =  Tex(r\"But The Probability vector sum does not add up to 1 So, \\\\ This is not Our Probability Vector\", font_size=40)\n",
    "        text[0][:].set_color(GOLD_A)\n",
    "        propbability_sum = MathTex(r\"\\pi = \\left<  0  + 0  + 0  + \\frac{1}{5} + \\frac{2}{15}  + \\frac{4}{15}\\right>\")\n",
    "        wrong_sum = MathTex(r\"\\pi = \\frac{3}{5}\").scale(1).shift( DOWN*0.7)\n",
    "        propbability_sum[0][:1].set_color(BLUE)\n",
    "        self.play(Write(propbability_sum))\n",
    "        self.wait(1)\n",
    "        propbability_sum.generate_target()\n",
    "        self.play(propbability_sum.animate.shift(UP*2).scale(1))\n",
    "        self.wait(1)\n",
    "        self.play(Write(wrong_sum))\n",
    "        self.wait(1)\n",
    "        self.play(FadeOut(wrong_sum))\n",
    "        self.wait(2)\n",
    "        self.play(Write(text))\n",
    "        self.wait(1)\n",
    "        self.play(FadeOut(text))\n",
    "        self.wait(1)\n",
    "        \n"
   ]
  },
  {
   "cell_type": "code",
   "execution_count": 227,
   "metadata": {},
   "outputs": [
    {
     "ename": "NameError",
     "evalue": "name 'PageRank_animations' is not defined",
     "output_type": "error",
     "traceback": [
      "\u001b[1;31m---------------------------------------------------------------------------\u001b[0m",
      "\u001b[1;31mNameError\u001b[0m                                 Traceback (most recent call last)",
      "\u001b[1;32mc:\\Users\\tanis\\OneDrive\\Desktop\\Python\\Manim\\Manim_Presentaton.ipynb Cell 11\u001b[0m line \u001b[0;36m1\n\u001b[1;32m----> <a href='vscode-notebook-cell:/c%3A/Users/tanis/OneDrive/Desktop/Python/Manim/Manim_Presentaton.ipynb#X13sZmlsZQ%3D%3D?line=0'>1</a>\u001b[0m get_ipython()\u001b[39m.\u001b[39;49mrun_cell_magic(\u001b[39m'\u001b[39;49m\u001b[39mmanim\u001b[39;49m\u001b[39m'\u001b[39;49m, \u001b[39m'\u001b[39;49m\u001b[39m-qm -v WARNING Dangling_Node\u001b[39;49m\u001b[39m'\u001b[39;49m, \u001b[39m'\u001b[39;49m\u001b[39mclass Dangling_Node(Scene):\u001b[39;49m\u001b[39m\\n\u001b[39;49;00m\u001b[39m    def construct(self):\u001b[39;49m\u001b[39m\\n\u001b[39;49;00m\u001b[39m        Header = Tex(r\u001b[39;49m\u001b[39m\"\u001b[39;49m\u001b[39mSolving Dangling Node Issue\u001b[39;49m\u001b[39m\"\u001b[39;49m\u001b[39m, color= GREEN, font_size= 60).shift(UP*3)\u001b[39;49m\u001b[39m\\n\u001b[39;49;00m\u001b[39m        Text = Tex(r\u001b[39;49m\u001b[39m\"\u001b[39;49m\u001b[39mThis has No Outgoing Links,\u001b[39;49m\u001b[39m\\\\\u001b[39;49;00m\u001b[39m\\\\\u001b[39;49;00m\u001b[39m A new random search begins\u001b[39;49m\u001b[39m\"\u001b[39;49m\u001b[39m, color= RED_A, font_size= 40).shift(DOWN*1)\u001b[39;49m\u001b[39m\\n\u001b[39;49;00m\u001b[39m        data1 = [[0, r\u001b[39;49m\u001b[39m\"\u001b[39;49m\u001b[39m\\\\\u001b[39;49;00m\u001b[39mfrac\u001b[39;49m\u001b[39m{1}\u001b[39;49;00m\u001b[39m{2}\u001b[39;49;00m\u001b[39m\"\u001b[39;49m\u001b[39m, r\u001b[39;49m\u001b[39m\"\u001b[39;49m\u001b[39m\\\\\u001b[39;49;00m\u001b[39mfrac\u001b[39;49m\u001b[39m{1}\u001b[39;49;00m\u001b[39m{2}\u001b[39;49;00m\u001b[39m\"\u001b[39;49m\u001b[39m, 0, 0, 0],\u001b[39;49m\u001b[39m\\n\u001b[39;49;00m\u001b[39m        [0, 0, 0, 0, 0, 0],\u001b[39;49m\u001b[39m\\n\u001b[39;49;00m\u001b[39m        [r\u001b[39;49m\u001b[39m\"\u001b[39;49m\u001b[39m\\\\\u001b[39;49;00m\u001b[39mfrac\u001b[39;49m\u001b[39m{1}\u001b[39;49;00m\u001b[39m{3}\u001b[39;49;00m\u001b[39m\"\u001b[39;49m\u001b[39m, r\u001b[39;49m\u001b[39m\"\u001b[39;49m\u001b[39m\\\\\u001b[39;49;00m\u001b[39mfrac\u001b[39;49m\u001b[39m{1}\u001b[39;49;00m\u001b[39m{3}\u001b[39;49;00m\u001b[39m\"\u001b[39;49m\u001b[39m, 0, r\u001b[39;49m\u001b[39m\"\u001b[39;49m\u001b[39m\\\\\u001b[39;49;00m\u001b[39mfrac\u001b[39;49m\u001b[39m{1}\u001b[39;49;00m\u001b[39m{3}\u001b[39;49;00m\u001b[39m\"\u001b[39;49m\u001b[39m, 0, 0],\u001b[39;49m\u001b[39m\\n\u001b[39;49;00m\u001b[39m        [0, 0, 0, 0, 0, 1],\u001b[39;49m\u001b[39m\\n\u001b[39;49;00m\u001b[39m        [0, 0, 0, r\u001b[39;49m\u001b[39m\"\u001b[39;49m\u001b[39m\\\\\u001b[39;49;00m\u001b[39mfrac\u001b[39;49m\u001b[39m{1}\u001b[39;49;00m\u001b[39m{2}\u001b[39;49;00m\u001b[39m\"\u001b[39;49m\u001b[39m, 0, r\u001b[39;49m\u001b[39m\"\u001b[39;49m\u001b[39m\\\\\u001b[39;49;00m\u001b[39mfrac\u001b[39;49m\u001b[39m{1}\u001b[39;49;00m\u001b[39m{2}\u001b[39;49;00m\u001b[39m\"\u001b[39;49m\u001b[39m],\u001b[39;49m\u001b[39m\\n\u001b[39;49;00m\u001b[39m        [0, 0, 0, r\u001b[39;49m\u001b[39m\"\u001b[39;49m\u001b[39m\\\\\u001b[39;49;00m\u001b[39mfrac\u001b[39;49m\u001b[39m{1}\u001b[39;49;00m\u001b[39m{2}\u001b[39;49;00m\u001b[39m\"\u001b[39;49m\u001b[39m, r\u001b[39;49m\u001b[39m\"\u001b[39;49m\u001b[39m\\\\\u001b[39;49;00m\u001b[39mfrac\u001b[39;49m\u001b[39m{1}\u001b[39;49;00m\u001b[39m{2}\u001b[39;49;00m\u001b[39m\"\u001b[39;49m\u001b[39m, 0]]\u001b[39;49m\u001b[39m\\n\u001b[39;49;00m\u001b[39m        data2 = [[0, r\u001b[39;49m\u001b[39m\"\u001b[39;49m\u001b[39m\\\\\u001b[39;49;00m\u001b[39mfrac\u001b[39;49m\u001b[39m{1}\u001b[39;49;00m\u001b[39m{2}\u001b[39;49;00m\u001b[39m\"\u001b[39;49m\u001b[39m, r\u001b[39;49m\u001b[39m\"\u001b[39;49m\u001b[39m\\\\\u001b[39;49;00m\u001b[39mfrac\u001b[39;49m\u001b[39m{1}\u001b[39;49;00m\u001b[39m{2}\u001b[39;49;00m\u001b[39m\"\u001b[39;49m\u001b[39m, 0, 0, 0],\u001b[39;49m\u001b[39m\\n\u001b[39;49;00m\u001b[39m        [r\u001b[39;49m\u001b[39m\"\u001b[39;49m\u001b[39m\\\\\u001b[39;49;00m\u001b[39mfrac\u001b[39;49m\u001b[39m{1}\u001b[39;49;00m\u001b[39m{6}\u001b[39;49;00m\u001b[39m\"\u001b[39;49m\u001b[39m, r\u001b[39;49m\u001b[39m\"\u001b[39;49m\u001b[39m\\\\\u001b[39;49;00m\u001b[39mfrac\u001b[39;49m\u001b[39m{1}\u001b[39;49;00m\u001b[39m{6}\u001b[39;49;00m\u001b[39m\"\u001b[39;49m\u001b[39m, r\u001b[39;49m\u001b[39m\"\u001b[39;49m\u001b[39m\\\\\u001b[39;49;00m\u001b[39mfrac\u001b[39;49m\u001b[39m{1}\u001b[39;49;00m\u001b[39m{6}\u001b[39;49;00m\u001b[39m\"\u001b[39;49m\u001b[39m, r\u001b[39;49m\u001b[39m\"\u001b[39;49m\u001b[39m\\\\\u001b[39;49;00m\u001b[39mfrac\u001b[39;49m\u001b[39m{1}\u001b[39;49;00m\u001b[39m{6}\u001b[39;49;00m\u001b[39m\"\u001b[39;49m\u001b[39m, r\u001b[39;49m\u001b[39m\"\u001b[39;49m\u001b[39m\\\\\u001b[39;49;00m\u001b[39mfrac\u001b[39;49m\u001b[39m{1}\u001b[39;49;00m\u001b[39m{6}\u001b[39;49;00m\u001b[39m\"\u001b[39;49m\u001b[39m, r\u001b[39;49m\u001b[39m\"\u001b[39;49m\u001b[39m\\\\\u001b[39;49;00m\u001b[39mfrac\u001b[39;49m\u001b[39m{1}\u001b[39;49;00m\u001b[39m{6}\u001b[39;49;00m\u001b[39m\"\u001b[39;49m\u001b[39m],\u001b[39;49m\u001b[39m\\n\u001b[39;49;00m\u001b[39m        [r\u001b[39;49m\u001b[39m\"\u001b[39;49m\u001b[39m\\\\\u001b[39;49;00m\u001b[39mfrac\u001b[39;49m\u001b[39m{1}\u001b[39;49;00m\u001b[39m{3}\u001b[39;49;00m\u001b[39m\"\u001b[39;49m\u001b[39m, r\u001b[39;49m\u001b[39m\"\u001b[39;49m\u001b[39m\\\\\u001b[39;49;00m\u001b[39mfrac\u001b[39;49m\u001b[39m{1}\u001b[39;49;00m\u001b[39m{3}\u001b[39;49;00m\u001b[39m\"\u001b[39;49m\u001b[39m, 0, r\u001b[39;49m\u001b[39m\"\u001b[39;49m\u001b[39m\\\\\u001b[39;49;00m\u001b[39mfrac\u001b[39;49m\u001b[39m{1}\u001b[39;49;00m\u001b[39m{3}\u001b[39;49;00m\u001b[39m\"\u001b[39;49m\u001b[39m, 0, 0],\u001b[39;49m\u001b[39m\\n\u001b[39;49;00m\u001b[39m        [0, 0, 0, 0, 0, 1],\u001b[39;49m\u001b[39m\\n\u001b[39;49;00m\u001b[39m        [0, 0, 0, r\u001b[39;49m\u001b[39m\"\u001b[39;49m\u001b[39m\\\\\u001b[39;49;00m\u001b[39mfrac\u001b[39;49m\u001b[39m{1}\u001b[39;49;00m\u001b[39m{2}\u001b[39;49;00m\u001b[39m\"\u001b[39;49m\u001b[39m, 0, r\u001b[39;49m\u001b[39m\"\u001b[39;49m\u001b[39m\\\\\u001b[39;49;00m\u001b[39mfrac\u001b[39;49m\u001b[39m{1}\u001b[39;49;00m\u001b[39m{2}\u001b[39;49;00m\u001b[39m\"\u001b[39;49m\u001b[39m],\u001b[39;49m\u001b[39m\\n\u001b[39;49;00m\u001b[39m        [0, 0, 0, r\u001b[39;49m\u001b[39m\"\u001b[39;49m\u001b[39m\\\\\u001b[39;49;00m\u001b[39mfrac\u001b[39;49m\u001b[39m{1}\u001b[39;49;00m\u001b[39m{2}\u001b[39;49;00m\u001b[39m\"\u001b[39;49m\u001b[39m, r\u001b[39;49m\u001b[39m\"\u001b[39;49m\u001b[39m\\\\\u001b[39;49;00m\u001b[39mfrac\u001b[39;49m\u001b[39m{1}\u001b[39;49;00m\u001b[39m{2}\u001b[39;49;00m\u001b[39m\"\u001b[39;49m\u001b[39m, 0]]\u001b[39;49m\u001b[39m\\n\u001b[39;49;00m\u001b[39m        LeadsTo = MathTex(r\u001b[39;49m\u001b[39m\"\u001b[39;49m\u001b[39m\\\\\u001b[39;49;00m\u001b[39mrightsquigarrow\u001b[39;49m\u001b[39m\"\u001b[39;49m\u001b[39m, font_size=90, color = GOLD_D).shift(DOWN* 1)\u001b[39;49m\u001b[39m\\n\u001b[39;49;00m\u001b[39m        M1 = Matrix(data1, element_alignment_corner=UL,v_buff = 1.8,left_bracket=\u001b[39;49m\u001b[39m\"\u001b[39;49m\u001b[39m(\u001b[39;49m\u001b[39m\"\u001b[39;49m\u001b[39m,right_bracket=\u001b[39;49m\u001b[39m\"\u001b[39;49m\u001b[39m)\u001b[39;49m\u001b[39m\"\u001b[39;49m\u001b[39m).scale(0.5).shift(LEFT*3, DOWN *1)\u001b[39;49m\u001b[39m\\n\u001b[39;49;00m\u001b[39m        m2 = Matrix(data2, element_alignment_corner=UL,v_buff = 1.8,left_bracket=\u001b[39;49m\u001b[39m\"\u001b[39;49m\u001b[39m(\u001b[39;49m\u001b[39m\"\u001b[39;49m\u001b[39m,right_bracket=\u001b[39;49m\u001b[39m\"\u001b[39;49m\u001b[39m)\u001b[39;49m\u001b[39m\"\u001b[39;49m\u001b[39m).shift(RIGHT* 4.6, DOWN* 0.8).scale(0.5)\u001b[39;49m\u001b[39m\\n\u001b[39;49;00m\u001b[39m        adgacency = MathTex(r\u001b[39;49m\u001b[39m\"\u001b[39;49m\u001b[39mS = \u001b[39;49m\u001b[39m\"\u001b[39;49m\u001b[39m, font_size=40).shift(RIGHT* 2, DOWN*1)\u001b[39;49m\u001b[39m\\n\u001b[39;49;00m\u001b[39m        adgacency1 = MathTex(r\u001b[39;49m\u001b[39m\"\u001b[39;49m\u001b[39mH = \u001b[39;49m\u001b[39m\"\u001b[39;49m\u001b[39m, font_size=40).shift(LEFT* 6, DOWN*1)\u001b[39;49m\u001b[39m\\n\u001b[39;49;00m\u001b[39m        bra = m2.get_brackets()\u001b[39;49m\u001b[39m\\n\u001b[39;49;00m\u001b[39m        colors = [BLUE, GREEN]\u001b[39;49m\u001b[39m\\n\u001b[39;49;00m\u001b[39m        for k in range(len(colors)):\u001b[39;49m\u001b[39m\\n\u001b[39;49;00m\u001b[39m            bra[k].set_color(colors[k])\u001b[39;49m\u001b[39m\\n\u001b[39;49;00m\u001b[39m        global matrixgroup\u001b[39;49m\u001b[39m\\n\u001b[39;49;00m\u001b[39m        matrixgroup = VGroup(adgacency, m2).shift(LEFT*0.7)\u001b[39;49m\u001b[39m\\n\u001b[39;49;00m\u001b[39m        matrixgroup2 = VGroup(adgacency1, M1)\u001b[39;49m\u001b[39m\\n\u001b[39;49;00m\u001b[39m        second_row = data2[1]\u001b[39;49m\u001b[39m\\n\u001b[39;49;00m\u001b[39m        tex_objects = [MathTex(entry) for entry in second_row]\u001b[39;49m\u001b[39m\\n\u001b[39;49;00m\u001b[39m        vgroup = VGroup(*tex_objects)\u001b[39;49m\u001b[39m\\n\u001b[39;49;00m\u001b[39m        ps, circles, arrows = PageRank_animations().construct()\u001b[39;49m\u001b[39m\\n\u001b[39;49;00m\u001b[39m        group_pagerank = VGroup(ps, circles, arrows).scale(0.7)\u001b[39;49m\u001b[39m\\n\u001b[39;49;00m\u001b[39m        group_pagerank.animate.shift(UP*1).scale(1.3)\u001b[39;49m\u001b[39m\\n\u001b[39;49;00m\u001b[39m        dang = VGroup(circles[1], ps[1])\u001b[39;49m\u001b[39m\\n\u001b[39;49;00m\u001b[39m        self.play(Write(Header))\u001b[39;49m\u001b[39m\\n\u001b[39;49;00m\u001b[39m        self.wait(1)\u001b[39;49m\u001b[39m\\n\u001b[39;49;00m\u001b[39m        self.play(MoveToTarget(group_pagerank))\u001b[39;49m\u001b[39m\\n\u001b[39;49;00m\u001b[39m        self.wait(1)\u001b[39;49m\u001b[39m\\n\u001b[39;49;00m\u001b[39m        self.play((Indicate(dang, scale_factor=3)))\u001b[39;49m\u001b[39m\\n\u001b[39;49;00m\u001b[39m        self.wait(2)\u001b[39;49m\u001b[39m\\n\u001b[39;49;00m\u001b[39m        group_pagerank.animate.shift(UP*2).scale(0.5)\u001b[39;49m\u001b[39m\\n\u001b[39;49;00m\u001b[39m        self.play(MoveToTarget(group_pagerank))\u001b[39;49m\u001b[39m\\n\u001b[39;49;00m\u001b[39m        self.wait(2)\u001b[39;49m\u001b[39m\\n\u001b[39;49;00m\u001b[39m        self.play(Write(Text))\u001b[39;49m\u001b[39m\\n\u001b[39;49;00m\u001b[39m        self.wait(1)\u001b[39;49m\u001b[39m\\n\u001b[39;49;00m\u001b[39m        self.play(FadeOut(group_pagerank))\u001b[39;49m\u001b[39m\\n\u001b[39;49;00m\u001b[39m        self.play(FadeOut(Text))\u001b[39;49m\u001b[39m\\n\u001b[39;49;00m\u001b[39m        self.play(Write(M1))\u001b[39;49m\u001b[39m\\n\u001b[39;49;00m\u001b[39m        self.play(Write(adgacency1))\u001b[39;49m\u001b[39m\\n\u001b[39;49;00m\u001b[39m        self.play(Write(LeadsTo))\u001b[39;49m\u001b[39m\\n\u001b[39;49;00m\u001b[39m        self.play(Write(matrixgroup))\u001b[39;49m\u001b[39m\\n\u001b[39;49;00m\u001b[39m        self.wait(1)\u001b[39;49m\u001b[39m\\n\u001b[39;49;00m\u001b[39m        self.play((Indicate(matrixgroup2[1][0][6:12], scale_factor=2)))\u001b[39;49m\u001b[39m\\n\u001b[39;49;00m\u001b[39m        self.wait(2)\u001b[39;49m\u001b[39m\\n\u001b[39;49;00m\u001b[39m        self.play((Indicate(matrixgroup[1][0][6:12], scale_factor=2)))\u001b[39;49m\u001b[39m\\n\u001b[39;49;00m\u001b[39m        self.wait(2)\u001b[39;49m\u001b[39m\\n\u001b[39;49;00m\u001b[39m        \u001b[39;49m\u001b[39m\\n\u001b[39;49;00m\u001b[39m'\u001b[39;49m)\n",
      "File \u001b[1;32mc:\\Users\\tanis\\miniconda3\\envs\\Desktop\\lib\\site-packages\\IPython\\core\\interactiveshell.py:2515\u001b[0m, in \u001b[0;36mInteractiveShell.run_cell_magic\u001b[1;34m(self, magic_name, line, cell)\u001b[0m\n\u001b[0;32m   2513\u001b[0m \u001b[39mwith\u001b[39;00m \u001b[39mself\u001b[39m\u001b[39m.\u001b[39mbuiltin_trap:\n\u001b[0;32m   2514\u001b[0m     args \u001b[39m=\u001b[39m (magic_arg_s, cell)\n\u001b[1;32m-> 2515\u001b[0m     result \u001b[39m=\u001b[39m fn(\u001b[39m*\u001b[39margs, \u001b[39m*\u001b[39m\u001b[39m*\u001b[39mkwargs)\n\u001b[0;32m   2517\u001b[0m \u001b[39m# The code below prevents the output from being displayed\u001b[39;00m\n\u001b[0;32m   2518\u001b[0m \u001b[39m# when using magics with decorator @output_can_be_silenced\u001b[39;00m\n\u001b[0;32m   2519\u001b[0m \u001b[39m# when the last Python token in the expression is a ';'.\u001b[39;00m\n\u001b[0;32m   2520\u001b[0m \u001b[39mif\u001b[39;00m \u001b[39mgetattr\u001b[39m(fn, magic\u001b[39m.\u001b[39mMAGIC_OUTPUT_CAN_BE_SILENCED, \u001b[39mFalse\u001b[39;00m):\n",
      "File \u001b[1;32mc:\\Users\\tanis\\miniconda3\\envs\\Desktop\\lib\\site-packages\\manim\\utils\\ipython_magic.py:141\u001b[0m, in \u001b[0;36mManimMagic.manim\u001b[1;34m(self, line, cell, local_ns)\u001b[0m\n\u001b[0;32m    139\u001b[0m     SceneClass \u001b[39m=\u001b[39m local_ns[config[\u001b[39m\"\u001b[39m\u001b[39mscene_names\u001b[39m\u001b[39m\"\u001b[39m][\u001b[39m0\u001b[39m]]\n\u001b[0;32m    140\u001b[0m     scene \u001b[39m=\u001b[39m SceneClass(renderer\u001b[39m=\u001b[39mrenderer)\n\u001b[1;32m--> 141\u001b[0m     scene\u001b[39m.\u001b[39;49mrender()\n\u001b[0;32m    142\u001b[0m \u001b[39mfinally\u001b[39;00m:\n\u001b[0;32m    143\u001b[0m     \u001b[39m# Shader cache becomes invalid as the context is destroyed\u001b[39;00m\n\u001b[0;32m    144\u001b[0m     shader_program_cache\u001b[39m.\u001b[39mclear()\n",
      "File \u001b[1;32mc:\\Users\\tanis\\miniconda3\\envs\\Desktop\\lib\\site-packages\\manim\\scene\\scene.py:223\u001b[0m, in \u001b[0;36mScene.render\u001b[1;34m(self, preview)\u001b[0m\n\u001b[0;32m    221\u001b[0m \u001b[39mself\u001b[39m\u001b[39m.\u001b[39msetup()\n\u001b[0;32m    222\u001b[0m \u001b[39mtry\u001b[39;00m:\n\u001b[1;32m--> 223\u001b[0m     \u001b[39mself\u001b[39;49m\u001b[39m.\u001b[39;49mconstruct()\n\u001b[0;32m    224\u001b[0m \u001b[39mexcept\u001b[39;00m EndSceneEarlyException:\n\u001b[0;32m    225\u001b[0m     \u001b[39mpass\u001b[39;00m\n",
      "File \u001b[1;32m<string>:32\u001b[0m, in \u001b[0;36mconstruct\u001b[1;34m(self)\u001b[0m\n",
      "\u001b[1;31mNameError\u001b[0m: name 'PageRank_animations' is not defined"
     ]
    }
   ],
   "source": [
    "%%manim -qm -v WARNING Dangling_Node\n",
    "class Dangling_Node(Scene):\n",
    "    def construct(self):\n",
    "        Header = Tex(r\"Solving Dangling Node Issue\", color= GREEN, font_size= 60).shift(UP*3)\n",
    "        Text = Tex(r\"This has No Outgoing Links,\\\\ A new random search begins\", color= RED_A, font_size= 40).shift(DOWN*1)\n",
    "        data1 = [[0, r\"\\frac{1}{2}\", r\"\\frac{1}{2}\", 0, 0, 0],\n",
    "        [0, 0, 0, 0, 0, 0],\n",
    "        [r\"\\frac{1}{3}\", r\"\\frac{1}{3}\", 0, r\"\\frac{1}{3}\", 0, 0],\n",
    "        [0, 0, 0, 0, 0, 1],\n",
    "        [0, 0, 0, r\"\\frac{1}{2}\", 0, r\"\\frac{1}{2}\"],\n",
    "        [0, 0, 0, r\"\\frac{1}{2}\", r\"\\frac{1}{2}\", 0]]\n",
    "        data2 = [[0, r\"\\frac{1}{2}\", r\"\\frac{1}{2}\", 0, 0, 0],\n",
    "        [r\"\\frac{1}{6}\", r\"\\frac{1}{6}\", r\"\\frac{1}{6}\", r\"\\frac{1}{6}\", r\"\\frac{1}{6}\", r\"\\frac{1}{6}\"],\n",
    "        [r\"\\frac{1}{3}\", r\"\\frac{1}{3}\", 0, r\"\\frac{1}{3}\", 0, 0],\n",
    "        [0, 0, 0, 0, 0, 1],\n",
    "        [0, 0, 0, r\"\\frac{1}{2}\", 0, r\"\\frac{1}{2}\"],\n",
    "        [0, 0, 0, r\"\\frac{1}{2}\", r\"\\frac{1}{2}\", 0]]\n",
    "        LeadsTo = MathTex(r\"\\rightsquigarrow\", font_size=90, color = GOLD_D).shift(DOWN* 1)\n",
    "        M1 = Matrix(data1, element_alignment_corner=UL,v_buff = 1.8,left_bracket=\"(\",right_bracket=\")\").scale(0.5).shift(LEFT*3, DOWN *1)\n",
    "        m2 = Matrix(data2, element_alignment_corner=UL,v_buff = 1.8,left_bracket=\"(\",right_bracket=\")\").shift(RIGHT* 4.6, DOWN* 0.8).scale(0.5)\n",
    "        adgacency = MathTex(r\"S = \", font_size=40).shift(RIGHT* 2, DOWN*1)\n",
    "        adgacency1 = MathTex(r\"H = \", font_size=40).shift(LEFT* 6, DOWN*1)\n",
    "        bra = m2.get_brackets()\n",
    "        colors = [BLUE, GREEN]\n",
    "        for k in range(len(colors)):\n",
    "            bra[k].set_color(colors[k])\n",
    "        global matrixgroup\n",
    "        matrixgroup = VGroup(adgacency, m2).shift(LEFT*0.7)\n",
    "        matrixgroup2 = VGroup(adgacency1, M1)\n",
    "        second_row = data2[1]\n",
    "        tex_objects = [MathTex(entry) for entry in second_row]\n",
    "        vgroup = VGroup(*tex_objects)\n",
    "        ps, circles, arrows = PageRank_animations().construct()\n",
    "        group_pagerank = VGroup(ps, circles, arrows).scale(0.7)\n",
    "        group_pagerank.animate.shift(UP*1).scale(1.3)\n",
    "        dang = VGroup(circles[1], ps[1])\n",
    "        self.play(Write(Header))\n",
    "        self.wait(1)\n",
    "        self.play(MoveToTarget(group_pagerank))\n",
    "        self.wait(1)\n",
    "        self.play((Indicate(dang, scale_factor=3)))\n",
    "        self.wait(2)\n",
    "        group_pagerank.animate.shift(UP*2).scale(0.5)\n",
    "        self.play(MoveToTarget(group_pagerank))\n",
    "        self.wait(2)\n",
    "        self.play(Write(Text))\n",
    "        self.wait(1)\n",
    "        self.play(FadeOut(group_pagerank))\n",
    "        self.play(FadeOut(Text))\n",
    "        self.play(Write(M1))\n",
    "        self.play(Write(adgacency1))\n",
    "        self.play(Write(LeadsTo))\n",
    "        self.play(Write(matrixgroup))\n",
    "        self.wait(1)\n",
    "        self.play((Indicate(matrixgroup2[1][0][6:12], scale_factor=2)))\n",
    "        self.wait(2)\n",
    "        self.play((Indicate(matrixgroup[1][0][6:12], scale_factor=2)))\n",
    "        self.wait(2)\n",
    "        "
   ]
  },
  {
   "cell_type": "code",
   "execution_count": null,
   "metadata": {},
   "outputs": [],
   "source": [
    "%%manim -qm -v WARNING Damping_Factor\n",
    "\n",
    "class Damping_Factor(Scene):\n",
    "    def construct(self):\n",
    "        Header = Tex(r\"Damping Factor\", color= GREEN, font_size= 60).shift(UP*3)\n",
    "        text = Tex(r\"Iterating again upon updated Stochastic Matrix S \\\\ We get the following Vector\", color= GREEN, font_size= 40)\n",
    "        text2 = Tex(r\"from time to time, the web surfer Webster will become boredwith following hyperlinks\\\\ and he will request a completely random web page\", color= BLUE_C, font_size= 35)\n",
    "        text[0][25:42].set_color(GOLD_A)\n",
    "        data1 = [[0, r\"\\frac{1}{2}\", r\"\\frac{1}{2}\", 0, 0, 0],\n",
    "        [r\"\\frac{1}{6}\", r\"\\frac{1}{6}\", r\"\\frac{1}{6}\", r\"\\frac{1}{6}\", r\"\\frac{1}{6}\", r\"\\frac{1}{6}\"],\n",
    "        [r\"\\frac{1}{3}\", r\"\\frac{1}{3}\", 0, r\"\\frac{1}{3}\", 0, 0],\n",
    "        [0, 0, 0, 0, 0, 1],\n",
    "        [0, 0, 0, r\"\\frac{1}{2}\", 0, r\"\\frac{1}{2}\"],\n",
    "        [0, 0, 0, r\"\\frac{1}{2}\", r\"\\frac{1}{2}\", 0]]\n",
    "        data2 = [[r\"\\frac{1}{6}\", r\"\\frac{1}{6}\", r\"\\frac{1}{6}\", r\"\\frac{1}{6}\", r\"\\frac{1}{6}\", r\"\\frac{1}{6}\"],\n",
    "        [r\"\\frac{1}{6}\", r\"\\frac{1}{6}\", r\"\\frac{1}{6}\", r\"\\frac{1}{6}\", r\"\\frac{1}{6}\", r\"\\frac{1}{6}\"],\n",
    "        [r\"\\frac{1}{6}\", r\"\\frac{1}{6}\", r\"\\frac{1}{6}\", r\"\\frac{1}{6}\", r\"\\frac{1}{6}\", r\"\\frac{1}{6}\"],\n",
    "        [r\"\\frac{1}{6}\", r\"\\frac{1}{6}\", r\"\\frac{1}{6}\", r\"\\frac{1}{6}\", r\"\\frac{1}{6}\", r\"\\frac{1}{6}\"],\n",
    "        [r\"\\frac{1}{6}\", r\"\\frac{1}{6}\", r\"\\frac{1}{6}\", r\"\\frac{1}{6}\", r\"\\frac{1}{6}\", r\"\\frac{1}{6}\"],\n",
    "        [r\"\\frac{1}{6}\", r\"\\frac{1}{6}\", r\"\\frac{1}{6}\", r\"\\frac{1}{6}\", r\"\\frac{1}{6}\", r\"\\frac{1}{6\"]]\n",
    "        propbability_Vector = MathTex(r\"\\pi = \\left<  0\\;\\;\\;\\;  0\\;\\;\\;\\;  0\\;\\;\\;\\;  \\frac{1}{3}\\;\\;\\;\\;  \\frac{2}{9}\\;\\;\\;\\;  \\frac{4}{9}\\right>\")\n",
    "        propbability_sum = MathTex(r\"\\pi = \\left<  0  + 0  + 0  + \\frac{1}{5} + \\frac{2}{15}  + \\frac{4}{15}\\right> = 1\")\n",
    "        damping_formula = Tex(r\"\\[dr + (1 - d) \\left(\\frac{1}{6}, \\frac{1}{6}, \\frac{1}{6}, \\frac{1}{6}, \\frac{1}{6}, \\frac{1}{6}\\right)\\]\")\n",
    "        damping_matrix = Tex(r\"\\[dr + (1 - d) \\left(\\frac{1}{6}, \\frac{1}{6}, \\frac{1}{6}, \\frac{1}{6}, \\frac{1}{6}, \\frac{1}{6}\\right)\\]\")\n",
    "        M1 = Matrix(data1, element_alignment_corner=UL,v_buff = 1.8,left_bracket=\"(\",right_bracket=\")\").scale(0.5).shift(LEFT*3, DOWN *1)\n",
    "        m2 = Matrix(data2, element_alignment_corner=UL,v_buff = 1.8,left_bracket=\"(\",right_bracket=\")\").shift(RIGHT* 4.6, DOWN* 0.8).scale(0.5)\n",
    "        adgacency = MathTex(r\"\\ + (1 - d) \", font_size=40).shift(RIGHT* 2, DOWN*1, LEFT*1)\n",
    "        adgacency1 = MathTex(r\"d\", font_size=40).shift(LEFT* 5.5, DOWN*1)\n",
    "        googlematrix = MathTex(r\"G = \", font_size=40).shift(LEFT* 6.5, DOWN*1)\n",
    "        bra = m2.get_brackets()\n",
    "        matrixgroup = VGroup(adgacency, m2).shift(LEFT*0.7)\n",
    "        matrixgroup2 = VGroup(adgacency1, M1)\n",
    "        self.play(Write(text))\n",
    "        self.wait(2)\n",
    "        self.play(FadeOut(text))\n",
    "        self.wait(1)\n",
    "        self.play(Write(propbability_Vector))\n",
    "        propbability_Vector.generate_target()\n",
    "        self.play(propbability_Vector.animate.shift(UP*2).scale(0.7))\n",
    "        self.wait(1)\n",
    "        self.play(Write(propbability_sum))\n",
    "        self.wait(2)\n",
    "        self.play(FadeOut(propbability_sum))\n",
    "        self.play(FadeOut(propbability_Vector))\n",
    "        self.wait(1)\n",
    "        self.play(Write(text2))\n",
    "        self.wait(1)\n",
    "        self.play(FadeOut(text2))\n",
    "        self.wait(1)\n",
    "        self.play(Write(Header))\n",
    "        self.wait(1)\n",
    "        self.play(Write(damping_formula))\n",
    "        self.wait(1.5)\n",
    "        self.play(FadeOut(damping_formula))\n",
    "        self.wait(2)\n",
    "        self.play(Write(adgacency1))\n",
    "        self.play(Write(matrixgroup))\n",
    "        self.play(Write(matrixgroup2))\n",
    "        self.play(Write(googlematrix))\n",
    "        self.wait(2)\n",
    "        \n"
   ]
  },
  {
   "cell_type": "code",
   "execution_count": 40,
   "metadata": {},
   "outputs": [
    {
     "name": "stderr",
     "output_type": "stream",
     "text": [
      "                                                                                                                                                       \r"
     ]
    },
    {
     "data": {
      "text/html": [
       "<video src=\"media\\jupyter\\Lastone@2023-11-03@01-10-06.mp4\" controls autoplay loop style=\"max-width: 60%;\"  >\n",
       "      Your browser does not support the <code>video</code> element.\n",
       "    </video>"
      ],
      "text/plain": [
       "<IPython.core.display.Video object>"
      ]
     },
     "metadata": {},
     "output_type": "display_data"
    }
   ],
   "source": [
    "%%manim -qm -v WARNING Lastone\n",
    "\n",
    "class Lastone(Scene):\n",
    "    def construct(self):\n",
    "        Header = Tex(r\"Brin  and  Page  state  that  they  usually  set  d  = 0.85\", color= GREEN, font_size= 40).shift(UP*1)\n",
    "        text = Tex(r\"By substituting this and Iterating, We get the following Vector\", color= PURPLE, font_size= 40)\n",
    "        data1 = MathTex(r\"\\pi = \\left< 0.0517, 0.0737, 0.0574, 0.2800, 0.1851, 0.3521\\right>\")\n",
    "        data2 = MathTex(r\"Rank = P6 < P4 < P5 < P2 < P3 < P1\").shift(DOWN*3)\n",
    "        ps, circles, arrows = PageRank_animations().construct()\n",
    "        ps[0] = MathTex(r\" 6^{th}\").shift(LEFT*4)\n",
    "        ps[1] = MathTex(r\" 4^{th}\").shift(DOWN*3, LEFT*4)\n",
    "        ps[2] = MathTex(r\" 5^{th}\").shift(LEFT*2, DOWN* 1.5)\n",
    "        ps[3] = MathTex(r\" 2^{nd}\").shift(UP*1.5, DOWN*3, RIGHT* 1)\n",
    "        ps[4] = MathTex(r\" 3^{rd}\").shift(RIGHT*3)\n",
    "        ps[5] = MathTex(r\" 1^{st}\").shift(RIGHT*3, DOWN*3) \n",
    "        group_pagerank = VGroup(ps, circles, arrows).scale(0.7)\n",
    "        group_pagerank.animate.shift(UP*1).scale(1.3)\n",
    "        self.play(Write(Header))\n",
    "        self.wait(1.5)\n",
    "        self.play(FadeOut(Header))\n",
    "        self.wait(1)\n",
    "        self.play(Write(text))\n",
    "        self.wait(1.5)\n",
    "        self.play(FadeOut(text))\n",
    "        self.wait(1)\n",
    "        self.play(Write(data1))\n",
    "        self.wait(1)\n",
    "        self.play(data1.animate.shift(UP*2).scale(0.7))\n",
    "        self.wait(1)\n",
    "        group_pagerank.generate_target() \n",
    "        self.play(Write(group_pagerank))\n",
    "        self.wait(1)\n",
    "        self.play(group_pagerank.animate.shift(UP*1).scale(1))\n",
    "        self.wait(2)\n",
    "        self.play(Write(data2))\n",
    "        self.wait(2)\n",
    "        "
   ]
  },
  {
   "cell_type": "code",
   "execution_count": 217,
   "metadata": {},
   "outputs": [
    {
     "name": "stderr",
     "output_type": "stream",
     "text": [
      "                                                                                                                                                                                                                                                                             \r"
     ]
    },
    {
     "data": {
      "text/html": [
       "<video src=\"media\\jupyter\\LinearTransformation3D@2023-11-03@23-50-00.mp4\" controls autoplay loop style=\"max-width: 60%;\"  >\n",
       "      Your browser does not support the <code>video</code> element.\n",
       "    </video>"
      ],
      "text/plain": [
       "<IPython.core.display.Video object>"
      ]
     },
     "metadata": {},
     "output_type": "display_data"
    }
   ],
   "source": [
    "%%manim -qm -v WARNING LinearTransformation3D\n",
    "\n",
    "class LinearTransformation3D(ThreeDScene):\n",
    "\n",
    "    CONFIG = {\n",
    "        \"x_axis_label\": \"$x$\",\n",
    "        \"y_axis_label\": \"$y$\",\n",
    "        \"basis_i_color\": GREEN,\n",
    "        \"basis_j_color\": RED,\n",
    "        \"basis_k_color\": GOLD\n",
    "    }\n",
    "\n",
    "    def create_matrix(self, np_matrix):\n",
    "\n",
    "        m = Matrix(np_matrix)\n",
    "\n",
    "        m.scale(0.5)\n",
    "        m.set_column_colors(GREEN, RED, GOLD)\n",
    "\n",
    "        m.to_corner(UP + LEFT)\n",
    "\n",
    "        return m\n",
    "\n",
    "    def construct(self):\n",
    "        matrix_x_t = MathTex(r\"Rotation\\;\\;along\\;\\;X\\;\\;axis \\\\ R_x(\\theta) = \\begin{bmatrix}1 & 0 & 0 \\\\0 & \\cos(\\theta) & -\\sin(\\theta) \\\\0 & \\sin(\\theta) & \\cos(\\theta)\\end{bmatrix}\")\n",
    "        matrix_y_t = MathTex(r\"Rotation\\;\\;along\\;\\;Y\\;\\;axis \\\\ R_y(\\theta) = \\begin{bmatrix}\\cos(\\theta) & 0 & \\sin(\\theta) \\\\0 & 1 & 0 \\\\-\\sin(\\theta) & 0 & \\cos(\\theta)\\end{bmatrix}\")\n",
    "        matrix_z_t = MathTex(r\"Rotation\\;\\;along\\;\\;Z\\;\\;axis \\\\ R_z(\\theta) = \\begin{bmatrix}\\cos(\\theta) & -\\sin(\\theta) & 0 \\\\\\sin(\\theta) & \\cos(\\theta) & 0 \\\\0 & 0 & 1\\end{bmatrix}\")\n",
    "        matrix_x_t.generate_target().scale(0.5)\n",
    "        matrix_y_t.generate_target().scale(0.5)\n",
    "        matrix_z_t.generate_target().scale(0.5)\n",
    "        \n",
    "        theta = 90\n",
    "        M_x = np.array([[1, 0, 0],    \n",
    "              [0, round(np.cos(np.radians(theta)), 2), -round(np.sin(np.radians(theta)), 2)],\n",
    "              [0, round(np.sin(np.radians(theta)), 2), round(np.cos(np.radians(theta)), 2)]])\n",
    "        M_y = np.array([[round(np.cos(np.radians(theta)), 2), 0, round(np.sin(np.radians(theta)), 2)],    \n",
    "              [0, 1, 0],\n",
    "              [-round(np.sin(np.radians(theta)), 2), 0, round(np.cos(np.radians(theta)), 2)]])\n",
    "        M_z = np.array([[round(np.cos(np.radians(theta)), 2), -round(np.sin(np.radians(theta)), 2), 0],    \n",
    "              [round(np.sin(np.radians(theta)), 2), round(np.cos(np.radians(theta)), 2), 0],\n",
    "              [0, 0, 1]])\n",
    "\n",
    "\n",
    "        axes = ThreeDAxes().scale(0.8)\n",
    "        axes.set_color(GRAY)\n",
    "        axes.add(axes.get_axis_labels())\n",
    "\n",
    "        self.set_camera_orientation(phi=75 * DEGREES, theta=-45 * DEGREES)\n",
    "\n",
    "        # basis vectors i,j,k\n",
    "        basis_vector_helper = Tex(\"$i$\", \",\", \"$j$\", \",\", \"$k$\")\n",
    "        basis_vector_helper[0].set_color(GREEN)\n",
    "        basis_vector_helper[2].set_color(RED)\n",
    "        basis_vector_helper[4].set_color(GOLD)\n",
    "\n",
    "        basis_vector_helper.to_corner(UP + RIGHT)\n",
    "\n",
    "        self.add_fixed_in_frame_mobjects(basis_vector_helper)\n",
    "\n",
    "        # matrix_x\n",
    "        matrix_x = self.create_matrix(M_x)\n",
    "        matrix_y = self.create_matrix(M_y)\n",
    "        matrix_z = self.create_matrix(M_z)\n",
    "\n",
    "\n",
    "        self.add(axes)\n",
    "\n",
    "        self.begin_ambient_camera_rotation(rate=0.2)\n",
    "\n",
    "        cube = Cube(side_length=3.3, fill_color=BLUE, stroke_width=2, fill_opacity=0.6)\n",
    "        cube.set_stroke(BLUE_E)\n",
    "\n",
    "        i_vec = Vector(np.array([3, 0, 0]), color=GREEN)\n",
    "        j_vec = Vector(np.array([0, 3, 0]), color=RED)\n",
    "        k_vec = Vector(np.array([0, 0, 3]), color=GOLD)\n",
    "\n",
    "        i_vec_new = Vector(M_x @ np.array([3, 0, 0]), color=GREEN)\n",
    "        j_vec_new = Vector(M_y @ np.array([0, 3, 0]), color=RED)\n",
    "        k_vec_new = Vector(M_z @ np.array([0, 0, 3]), color=GOLD)\n",
    "\n",
    "        self.play(\n",
    "            Write(cube),\n",
    "            GrowArrow(i_vec),\n",
    "            GrowArrow(j_vec),\n",
    "            GrowArrow(k_vec),\n",
    "            Write(basis_vector_helper)\n",
    "        )\n",
    "\n",
    "        self.wait()\n",
    "\n",
    "        matrix_anim_x = ApplyMatrix(M_x, cube)\n",
    "        matrix_anim_y = ApplyMatrix(M_y, cube)\n",
    "        matrix_anim_z = ApplyMatrix(M_z, cube)\n",
    "        self.add_fixed_in_frame_mobjects(matrix_x_t)\n",
    "        self.play(matrix_x_t.animate.scale(0.6).shift(UP*3, LEFT*5))\n",
    "        def apply_transformation_x():\n",
    "            self.play(\n",
    "                matrix_anim_x,\n",
    "                Transform(i_vec, i_vec_new, rate_func=matrix_anim_x.get_rate_func(),\n",
    "                        run_time=matrix_anim_x.get_run_time()),\n",
    "                Transform(j_vec, j_vec_new, rate_func=matrix_anim_x.get_rate_func(),\n",
    "                        run_time=matrix_anim_x.get_run_time()),\n",
    "                Transform(k_vec, k_vec_new, rate_func=matrix_anim_x.get_rate_func(),\n",
    "                        run_time=matrix_anim_x.get_run_time())\n",
    "                )\n",
    "        apply_transformation_x(), \n",
    "        self.play(Unwrite(matrix_x_t))\n",
    "        self.wait(2)\n",
    "        self.add_fixed_in_frame_mobjects(matrix_y_t)\n",
    "        self.play(matrix_y_t.animate.scale(0.6).shift(UP*3, LEFT*5))\n",
    "        def apply_transformation_y():\n",
    "            self.play(\n",
    "                matrix_anim_y,\n",
    "                Transform(i_vec, i_vec_new, rate_func=matrix_anim_y.get_rate_func(),\n",
    "                        run_time=matrix_anim_y.get_run_time()),\n",
    "                Transform(j_vec, j_vec_new, rate_func=matrix_anim_y.get_rate_func(),\n",
    "                        run_time=matrix_anim_y.get_run_time()),\n",
    "                Transform(k_vec, k_vec_new, rate_func=matrix_anim_y.get_rate_func(),\n",
    "                        run_time=matrix_anim_y.get_run_time())\n",
    "            )\n",
    "        apply_transformation_y()\n",
    "        self.play(Unwrite(matrix_y_t))\n",
    "        self.wait(2)\n",
    "        self.add_fixed_in_frame_mobjects(matrix_z_t)\n",
    "        self.play(matrix_z_t.animate.scale(0.6).shift(UP*3, LEFT*5))\n",
    "        def apply_transformation_z():\n",
    "            self.play(\n",
    "                matrix_anim_z,\n",
    "                Transform(i_vec, i_vec_new, rate_func=matrix_anim_z.get_rate_func(),\n",
    "                        run_time=matrix_anim_z.get_run_time()),\n",
    "                Transform(j_vec, j_vec_new, rate_func=matrix_anim_z.get_rate_func(),\n",
    "                        run_time=matrix_anim_z.get_run_time()),\n",
    "                Transform(k_vec, k_vec_new, rate_func=matrix_anim_z.get_rate_func(),\n",
    "                        run_time=matrix_anim_z.get_run_time())\n",
    "            )\n",
    "        apply_transformation_z()\n",
    "        self.play(Unwrite(matrix_z_t))\n",
    "        self.wait(2)"
   ]
  },
  {
   "cell_type": "code",
   "execution_count": 216,
   "metadata": {},
   "outputs": [
    {
     "name": "stderr",
     "output_type": "stream",
     "text": [
      "                                                                                                                              \r"
     ]
    },
    {
     "data": {
      "text/html": [
       "<video src=\"media\\jupyter\\rotations@2023-11-03@23-46-42.mp4\" controls autoplay loop style=\"max-width: 60%;\"  >\n",
       "      Your browser does not support the <code>video</code> element.\n",
       "    </video>"
      ],
      "text/plain": [
       "<IPython.core.display.Video object>"
      ]
     },
     "metadata": {},
     "output_type": "display_data"
    }
   ],
   "source": [
    "%%manim -qm -v WARNING rotations\n",
    "\n",
    "class rotations(ThreeDScene):\n",
    "    def construct(self):\n",
    "        Header = Tex(r\"Rotating Objects\", color= GREEN, font_size= 60).shift(UP*3)\n",
    "        text = Tex(r\"Rotating is Done With help of Rotation Matrices\", color= BLUE_B, font_size= 40)\n",
    "        matrix_x = MathTex(r\"Rotation\\;\\;along\\;\\;X\\;\\;axis \\\\ R_x(\\theta) = \\begin{bmatrix}1 & 0 & 0 \\\\0 & \\cos(\\theta) & -\\sin(\\theta) \\\\0 & \\sin(\\theta) & \\cos(\\theta)\\end{bmatrix}\")\n",
    "        matrix_y = MathTex(r\"Rotation\\;\\;along\\;\\;Y\\;\\;axis \\\\ R_y(\\theta) = \\begin{bmatrix}\\cos(\\theta) & 0 & \\sin(\\theta) \\\\0 & 1 & 0 \\\\-\\sin(\\theta) & 0 & \\cos(\\theta)\\end{bmatrix}\")\n",
    "        matrix_z = MathTex(r\"Rotation\\;\\;along\\;\\;Z\\;\\;axis \\\\ R_z(\\theta) = \\begin{bmatrix}\\cos(\\theta) & -\\sin(\\theta) & 0 \\\\\\sin(\\theta) & \\cos(\\theta) & 0 \\\\0 & 0 & 1\\end{bmatrix}\")\n",
    "        matrix_x.generate_target()\n",
    "        \n",
    "\n",
    "        x = MathTex(r\"x Axis\", color= WHITE)\n",
    "        y = MathTex(r\"y Axis\", color= WHITE)\n",
    "        z = MathTex(r\"z Axis\", color= WHITE)\n",
    "        axis = {'RIGHT':x, 'UP':y, 'OUT':z}\n",
    "        cube = Cube(side_length=3, fill_opacity=0.5, fill_color=BLUE)\n",
    "        cube.generate_target()\n",
    "        self.play(Write(Header))\n",
    "        self.play(Write(cube), run_time=2)\n",
    "        self.wait(2)\n",
    "        for key, value in axis.items():\n",
    "            self.play(Rotate(cube, 90 * DEGREES, about_point=ORIGIN, axis=eval(key)))\n",
    "            self.play(Write(value))\n",
    "            self.play(Unwrite(value))\n",
    "\n",
    "        self.wait(1.5)\n",
    "        self.play(Unwrite(cube), run_time=2) \n",
    "        self.play(Write(text))\n",
    "        self.wait(2)\n",
    "        self.play(Unwrite(text))\n",
    "        self.wait(2)\n"
   ]
  },
  {
   "cell_type": "code",
   "execution_count": 368,
   "metadata": {},
   "outputs": [
    {
     "data": {
      "text/html": [
       "<pre style=\"white-space:pre;overflow-x:auto;line-height:normal;font-family:Menlo,'DejaVu Sans Mono',consolas,'Courier New',monospace\"><span style=\"color: #7fbfbf; text-decoration-color: #7fbfbf\">[11/04/23 04:43:17] </span><span style=\"color: #800000; text-decoration-color: #800000\">WARNING </span> The class ShowCreationThenFadeOut has been deprecated since v0.<span style=\"color: #008000; text-decoration-color: #008000\">15.0</span> <a href=\"file://c:\\Users\\tanis\\miniconda3\\envs\\Desktop\\lib\\site-packages\\manim\\utils\\deprecation.py\" target=\"_blank\"><span style=\"color: #7f7f7f; text-decoration-color: #7f7f7f\">deprecation.py</span></a><span style=\"color: #7f7f7f; text-decoration-color: #7f7f7f\">:</span><a href=\"file://c:\\Users\\tanis\\miniconda3\\envs\\Desktop\\lib\\site-packages\\manim\\utils\\deprecation.py#218\" target=\"_blank\"><span style=\"color: #7f7f7f; text-decoration-color: #7f7f7f\">218</span></a>\n",
       "<span style=\"color: #7fbfbf; text-decoration-color: #7fbfbf\">                    </span>         and is expected to be removed after v0.<span style=\"color: #008000; text-decoration-color: #008000\">16.0</span>. Use Create then        <span style=\"color: #7f7f7f; text-decoration-color: #7f7f7f\">                  </span>\n",
       "<span style=\"color: #7fbfbf; text-decoration-color: #7fbfbf\">                    </span>         FadeOut to achieve this effect.                                     <span style=\"color: #7f7f7f; text-decoration-color: #7f7f7f\">                  </span>\n",
       "</pre>\n"
      ],
      "text/plain": [
       "\u001b[2;36m[11/04/23 04:43:17]\u001b[0m\u001b[2;36m \u001b[0m\u001b[31mWARNING \u001b[0m The class ShowCreationThenFadeOut has been deprecated since v0.\u001b[32m15.0\u001b[0m \u001b]8;id=936339;file://c:\\Users\\tanis\\miniconda3\\envs\\Desktop\\lib\\site-packages\\manim\\utils\\deprecation.py\u001b\\\u001b[2mdeprecation.py\u001b[0m\u001b]8;;\u001b\\\u001b[2m:\u001b[0m\u001b]8;id=169101;file://c:\\Users\\tanis\\miniconda3\\envs\\Desktop\\lib\\site-packages\\manim\\utils\\deprecation.py#218\u001b\\\u001b[2m218\u001b[0m\u001b]8;;\u001b\\\n",
       "\u001b[2;36m                    \u001b[0m         and is expected to be removed after v0.\u001b[32m16.0\u001b[0m. Use Create then        \u001b[2m                  \u001b[0m\n",
       "\u001b[2;36m                    \u001b[0m         FadeOut to achieve this effect.                                     \u001b[2m                  \u001b[0m\n"
      ]
     },
     "metadata": {},
     "output_type": "display_data"
    },
    {
     "name": "stderr",
     "output_type": "stream",
     "text": [
      "                                                                                               \r"
     ]
    },
    {
     "data": {
      "text/html": [
       "<video src=\"media\\jupyter\\MusicTheory@2023-11-04@04-43-19.mp4\" controls autoplay loop style=\"max-width: 60%;\"  >\n",
       "      Your browser does not support the <code>video</code> element.\n",
       "    </video>"
      ],
      "text/plain": [
       "<IPython.core.display.Video object>"
      ]
     },
     "metadata": {},
     "output_type": "display_data"
    }
   ],
   "source": [
    "%%manim -qm -v WARNING MusicTheory\n",
    "\n",
    "class MusicTheory(Scene):\n",
    "    def construct(self):\n",
    "        Header = Tex(r\"Theory of Music\", color= GREEN, font_size= 60).shift(UP*3)\n",
    "        Octave_text = (Tex(r\"Octave(1:2)\", color= GREEN, font_size= 40)).shift(UP*3).shift(LEFT*0.6)\n",
    "        P5_text = (Tex(r\"Perfect Fifth(2:3)\", color= GREEN, font_size= 40)).shift(UP*3).shift(LEFT*0.6)\n",
    "        image = ImageMobject('C:/Users/tanis/OneDrive/Desktop/Python/Guitar_Fretboard_Open_Strings_Diagram.png').scale(0.69).shift(LEFT*2.1)\n",
    "        Octave_circle = Circle(radius=3, color=WHITE).shift(LEFT*0.6)\n",
    "        Octave_circle1 = Circle(radius=3, color=WHITE).shift(RIGHT*5.4)\n",
    "        p5 = Circle(radius=2, color=WHITE).shift(LEFT*1.6)\n",
    "        p5_ = Circle(radius=2, color=WHITE).shift(RIGHT*2.4)\n",
    "        p5_1 = Circle(radius=2., color=WHITE).shift(RIGHT*6.4)\n",
    "        \n",
    "        p4 = Circle(radius=1, color=WHITE).shift(LEFT*5.6)\n",
    "        p4_ = Circle(radius=1, color=WHITE).shift(LEFT*3.6)\n",
    "        p4_1 = Circle(radius=1, color=WHITE).shift(RIGHT*0.4)\n",
    "        p4_2 = Circle(radius=1, color=WHITE).shift(LEFT*1.6)\n",
    "        p5_circles = VGroup(p5,p5_,p5_1)\n",
    "        p4_circles = VGroup(p4,p4_,p4_1, p4_2)\n",
    "        Octave_circles = VGroup(Octave_circle,Octave_circle1)\n",
    "        Octave_circles.generate_target()\n",
    "        p5_circles.generate_target()\n",
    "        self.play(ShowCreationThenFadeOut(Header))\n",
    "        self.wait()\n",
    "        self.play(LaggedStart(FadeIn(image)))\n",
    "        self.wait()\n",
    "        self.play(Create(Octave_circles))\n",
    "        self.play(Octave_circles.animate.shift(LEFT*3))\n",
    "        self.play(Write(Octave_text))\n",
    "        self.wait(1)\n",
    "        self.play(Unwrite(Octave_text))\n",
    "        self.wait(1)\n",
    "        self.play(Create(p5_circles))\n",
    "        self.play(p5_circles.animate.shift(LEFT*3))\n",
    "        self.play(Write(P5_text))\n",
    "        self.wait(1)\n",
    "        self.play(Unwrite(P5_text))\n",
    "        self.play(Create(p4_circles))\n",
    "        self.wait(3)\n",
    "        "
   ]
  },
  {
   "cell_type": "code",
   "execution_count": null,
   "metadata": {},
   "outputs": [],
   "source": []
  }
 ],
 "metadata": {
  "kernelspec": {
   "display_name": "Python 3",
   "language": "python",
   "name": "python3"
  },
  "language_info": {
   "codemirror_mode": {
    "name": "ipython",
    "version": 3
   },
   "file_extension": ".py",
   "mimetype": "text/x-python",
   "name": "python",
   "nbconvert_exporter": "python",
   "pygments_lexer": "ipython3",
   "version": "3.10.11"
  }
 },
 "nbformat": 4,
 "nbformat_minor": 2
}
